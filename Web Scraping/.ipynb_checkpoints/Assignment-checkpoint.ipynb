{
 "cells": [
  {
   "cell_type": "code",
   "execution_count": 1,
   "metadata": {},
   "outputs": [],
   "source": [
    "import requests\n",
    "import csv\n",
    "import pandas as pd\n",
    "from bs4 import BeautifulSoup"
   ]
  },
  {
   "cell_type": "code",
   "execution_count": 2,
   "metadata": {},
   "outputs": [],
   "source": [
    "URL = \"https://www.ndtv.com/top-stories?pfrom=home-topstories\"\n",
    "r = requests.get(URL)"
   ]
  },
  {
   "cell_type": "code",
   "execution_count": 3,
   "metadata": {},
   "outputs": [],
   "source": [
    "soup = BeautifulSoup(r.content, 'html5lib') \n",
    "# print(soup.prettify())"
   ]
  },
  {
   "cell_type": "code",
   "execution_count": 4,
   "metadata": {},
   "outputs": [],
   "source": [
    "data = soup.find_all('div', {'class': 'new_storylising_contentwrap'})"
   ]
  },
  {
   "cell_type": "code",
   "execution_count": 5,
   "metadata": {},
   "outputs": [
    {
     "data": {
      "text/plain": [
       "15"
      ]
     },
     "execution_count": 5,
     "metadata": {},
     "output_type": "execute_result"
    }
   ],
   "source": [
    "len(data)"
   ]
  },
  {
   "cell_type": "code",
   "execution_count": 6,
   "metadata": {},
   "outputs": [],
   "source": [
    "temp = []\n",
    "\n",
    "for item in data:\n",
    "    \n",
    "    head_div = item.contents[0]\n",
    "    author_div = item.contents[1]\n",
    "    content_div = item.contents[2]\n",
    "    \n",
    "    \n",
    "    title = head_div.text.strip()\n",
    "        \n",
    "    if len(author_div.contents) == 2:\n",
    "        author = author_div.contents[0].text\n",
    "        date_loc = author_div.contents[1].strip()\n",
    "    \n",
    "    elif len(author_div.contents) == 5:\n",
    "        author = author_div.contents[3].text\n",
    "        date_loc = author_div.contents[4].strip()\n",
    "    \n",
    "    else:\n",
    "        author = author_div.contents[1].text\n",
    "        date_loc = author_div.contents[2].strip()\n",
    "    \n",
    "    \n",
    "    content = content_div.text\n",
    "    \n",
    "    obj = [title,author,date_loc,content]\n",
    "    \n",
    "    \n",
    "    temp.append(obj)\n",
    "    "
   ]
  },
  {
   "cell_type": "code",
   "execution_count": 7,
   "metadata": {},
   "outputs": [
    {
     "data": {
      "text/plain": [
       "[\"2 Brides Ride Horses To Grooms' Homes In A Unique Wedding Procession\",\n",
       " 'ANI',\n",
       " '| Friday January 24, 2020, Khandwa',\n",
       " 'Madhya Pradesh: Sakshi and Srishti, two sisters from Khandwa, who had their wedding ceremonies on January 22, took out their own \"baraat\".']"
      ]
     },
     "execution_count": 7,
     "metadata": {},
     "output_type": "execute_result"
    }
   ],
   "source": [
    "temp[0]"
   ]
  },
  {
   "cell_type": "code",
   "execution_count": 8,
   "metadata": {},
   "outputs": [],
   "source": [
    "with open('result.csv', 'w', newline='') as file:\n",
    "    writer = csv.writer(file)\n",
    "    writer.writerow([\"Title\",\"Author\",\"Date & Location\",\"Content\"])\n",
    "    \n",
    "    \n",
    "    writer.writerows(temp)"
   ]
  },
  {
   "cell_type": "code",
   "execution_count": 9,
   "metadata": {},
   "outputs": [
    {
     "data": {
      "text/html": [
       "<div>\n",
       "<style scoped>\n",
       "    .dataframe tbody tr th:only-of-type {\n",
       "        vertical-align: middle;\n",
       "    }\n",
       "\n",
       "    .dataframe tbody tr th {\n",
       "        vertical-align: top;\n",
       "    }\n",
       "\n",
       "    .dataframe thead th {\n",
       "        text-align: right;\n",
       "    }\n",
       "</style>\n",
       "<table border=\"1\" class=\"dataframe\">\n",
       "  <thead>\n",
       "    <tr style=\"text-align: right;\">\n",
       "      <th></th>\n",
       "      <th>Title</th>\n",
       "      <th>Author</th>\n",
       "      <th>Date &amp; Location</th>\n",
       "      <th>Content</th>\n",
       "    </tr>\n",
       "  </thead>\n",
       "  <tbody>\n",
       "    <tr>\n",
       "      <th>0</th>\n",
       "      <td>2 Brides Ride Horses To Grooms' Homes In A Uni...</td>\n",
       "      <td>ANI</td>\n",
       "      <td>| Friday January 24, 2020, Khandwa</td>\n",
       "      <td>Madhya Pradesh: Sakshi and Srishti, two sister...</td>\n",
       "    </tr>\n",
       "    <tr>\n",
       "      <th>1</th>\n",
       "      <td>Jammu And Kashmir Aims To Register 20% Growth ...</td>\n",
       "      <td>Press Trust of India</td>\n",
       "      <td>| Friday January 24, 2020, Jammu</td>\n",
       "      <td>Jammu and Kashmir Taxes Department is aiming t...</td>\n",
       "    </tr>\n",
       "    <tr>\n",
       "      <th>2</th>\n",
       "      <td>Nepal Invites PM Modi For Sagarmatha Dialogue</td>\n",
       "      <td>Press Trust of India</td>\n",
       "      <td>| Friday January 24, 2020, Kathmandu</td>\n",
       "      <td>Nepal has invited Prime Minister Narendra Modi...</td>\n",
       "    </tr>\n",
       "    <tr>\n",
       "      <th>3</th>\n",
       "      <td>Substantial Increase In Outflow Of Illegal Ban...</td>\n",
       "      <td>Press Trust of India</td>\n",
       "      <td>| Friday January 24, 2020, Kolkata</td>\n",
       "      <td>The Border Security Force or BSF said today th...</td>\n",
       "    </tr>\n",
       "    <tr>\n",
       "      <th>4</th>\n",
       "      <td>Shiv Sena Targets Centre Over \"Attempts To Muz...</td>\n",
       "      <td>Press Trust of India</td>\n",
       "      <td>| Friday January 24, 2020, Mumbai</td>\n",
       "      <td>The Shiv Sena today said there have been attem...</td>\n",
       "    </tr>\n",
       "  </tbody>\n",
       "</table>\n",
       "</div>"
      ],
      "text/plain": [
       "                                               Title                Author  \\\n",
       "0  2 Brides Ride Horses To Grooms' Homes In A Uni...                   ANI   \n",
       "1  Jammu And Kashmir Aims To Register 20% Growth ...  Press Trust of India   \n",
       "2      Nepal Invites PM Modi For Sagarmatha Dialogue  Press Trust of India   \n",
       "3  Substantial Increase In Outflow Of Illegal Ban...  Press Trust of India   \n",
       "4  Shiv Sena Targets Centre Over \"Attempts To Muz...  Press Trust of India   \n",
       "\n",
       "                        Date & Location  \\\n",
       "0    | Friday January 24, 2020, Khandwa   \n",
       "1      | Friday January 24, 2020, Jammu   \n",
       "2  | Friday January 24, 2020, Kathmandu   \n",
       "3    | Friday January 24, 2020, Kolkata   \n",
       "4     | Friday January 24, 2020, Mumbai   \n",
       "\n",
       "                                             Content  \n",
       "0  Madhya Pradesh: Sakshi and Srishti, two sister...  \n",
       "1  Jammu and Kashmir Taxes Department is aiming t...  \n",
       "2  Nepal has invited Prime Minister Narendra Modi...  \n",
       "3  The Border Security Force or BSF said today th...  \n",
       "4  The Shiv Sena today said there have been attem...  "
      ]
     },
     "execution_count": 9,
     "metadata": {},
     "output_type": "execute_result"
    }
   ],
   "source": [
    "df = pd.read_csv('result.csv')\n",
    "df.head()"
   ]
  }
 ],
 "metadata": {
  "kernelspec": {
   "display_name": "Python 3",
   "language": "python",
   "name": "python3"
  },
  "language_info": {
   "codemirror_mode": {
    "name": "ipython",
    "version": 3
   },
   "file_extension": ".py",
   "mimetype": "text/x-python",
   "name": "python",
   "nbconvert_exporter": "python",
   "pygments_lexer": "ipython3",
   "version": "3.7.2"
  }
 },
 "nbformat": 4,
 "nbformat_minor": 4
}
