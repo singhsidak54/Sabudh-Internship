{
 "cells": [
  {
   "cell_type": "markdown",
   "metadata": {},
   "source": [
    "## Web Scraping\n",
    "\n",
    "Today we will learn  implement web scraping using BS4 library."
   ]
  },
  {
   "cell_type": "code",
   "execution_count": 2,
   "metadata": {},
   "outputs": [],
   "source": [
    "import requests\n",
    "from bs4 import BeautifulSoup"
   ]
  },
  {
   "cell_type": "code",
   "execution_count": 3,
   "metadata": {},
   "outputs": [],
   "source": [
    "URL = \"https://xkcd.com/\"\n",
    "r = requests.get(URL) \n",
    "#print(r.content)"
   ]
  },
  {
   "cell_type": "code",
   "execution_count": 4,
   "metadata": {},
   "outputs": [],
   "source": [
    "soup = BeautifulSoup(r.content, 'html5lib') \n",
    "#print(soup.prettify())"
   ]
  },
  {
   "cell_type": "code",
   "execution_count": 5,
   "metadata": {},
   "outputs": [
    {
     "data": {
      "text/plain": [
       "[<img alt=\"xkcd.com logo\" height=\"83\" src=\"/s/0b7742.png\" width=\"185\"/>,\n",
       " <img border=\"0\" src=\"//imgs.xkcd.com/static/howto_release_49b1.png\"/>,\n",
       " <img alt=\"Solar System Changes\" src=\"//imgs.xkcd.com/comics/solar_system_changes.png\" srcset=\"//imgs.xkcd.com/comics/solar_system_changes_2x.png 2x\" title='\"Actually, Jupiter already has a very impressive ring system!\" --someone who knows Jupiter is within earshot'/>,\n",
       " <img alt=\"Selected Comics\" height=\"100\" src=\"//imgs.xkcd.com/s/a899e84.jpg\" usemap=\"#comicmap\" width=\"520\"/>,\n",
       " <img alt=\"Earth temperature timeline\" border=\"0\" height=\"100\" src=\"//imgs.xkcd.com/s/temperature.png\" width=\"520\"/>]"
      ]
     },
     "execution_count": 5,
     "metadata": {},
     "output_type": "execute_result"
    }
   ],
   "source": [
    "images = soup.find_all('img')\n",
    "images"
   ]
  },
  {
   "cell_type": "code",
   "execution_count": 6,
   "metadata": {},
   "outputs": [
    {
     "name": "stdout",
     "output_type": "stream",
     "text": [
      "/s/0b7742.png\n",
      "//imgs.xkcd.com/static/howto_release_49b1.png\n",
      "//imgs.xkcd.com/comics/solar_system_changes.png\n",
      "//imgs.xkcd.com/s/a899e84.jpg\n",
      "//imgs.xkcd.com/s/temperature.png\n"
     ]
    }
   ],
   "source": [
    "for image in images:\n",
    "    print(image['src'])"
   ]
  }
 ],
 "metadata": {
  "kernelspec": {
   "display_name": "Python 3",
   "language": "python",
   "name": "python3"
  },
  "language_info": {
   "codemirror_mode": {
    "name": "ipython",
    "version": 3
   },
   "file_extension": ".py",
   "mimetype": "text/x-python",
   "name": "python",
   "nbconvert_exporter": "python",
   "pygments_lexer": "ipython3",
   "version": "3.7.2"
  }
 },
 "nbformat": 4,
 "nbformat_minor": 4
}
